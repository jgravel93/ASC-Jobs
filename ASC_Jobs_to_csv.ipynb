{
 "cells": [
  {
   "cell_type": "code",
   "execution_count": 127,
   "metadata": {
    "collapsed": true
   },
   "outputs": [],
   "source": [
    "from bs4 import BeautifulSoup\n",
    "import re\n",
    "import pandas as pd\n",
    "import datetime\n",
    "import urllib"
   ]
  },
  {
   "cell_type": "code",
   "execution_count": 128,
   "metadata": {
    "collapsed": true
   },
   "outputs": [],
   "source": [
    "page = urllib.request.urlopen(\"http://www.asc41.com/dir3/jobposts.htm\").read()"
   ]
  },
  {
   "cell_type": "code",
   "execution_count": 129,
   "metadata": {
    "collapsed": false
   },
   "outputs": [],
   "source": [
    "soup=BeautifulSoup(page,'lxml')"
   ]
  },
  {
   "cell_type": "code",
   "execution_count": 130,
   "metadata": {
    "collapsed": false
   },
   "outputs": [],
   "source": [
    "tables=soup.findAll('table')\n",
    "table=tables[6]"
   ]
  },
  {
   "cell_type": "code",
   "execution_count": 131,
   "metadata": {
    "collapsed": false
   },
   "outputs": [],
   "source": [
    "rows=table.findAll('tr')\n",
    "rows=rows[1:]"
   ]
  },
  {
   "cell_type": "code",
   "execution_count": 132,
   "metadata": {
    "collapsed": false
   },
   "outputs": [],
   "source": [
    "posts={}\n",
    "p=-1\n",
    "for r in rows:\n",
    "    if r.find(lambda tag:[a for a in tag.attrs.values() if a==\"#CCCCCC\"])!=None:\n",
    "        p+=1\n",
    "        posts[p]={'School':None,'School website':None,\n",
    "                  'Number of positions':None,\n",
    "                  'Position detail link':None,\n",
    "                  'Post date':None,'Position':None,\n",
    "                  'Specialization':None,\n",
    "                  'Deadline':None}\n",
    "        l=r.findAll('a')\n",
    "        rn=0\n",
    "        schpos=r.findAll('td')[0]\n",
    "        schpos=schpos.text\n",
    "        pat=re.compile('\\((.*)\\s*(Position[s]*)\\)')\n",
    "        pos=pat.search(schpos)\n",
    "        npos=None\n",
    "        sch=None\n",
    "        if pos:\n",
    "            npos=pos.groups()[0]\n",
    "            sch=schpos.split(pos[0])[0]\n",
    "            sch=\" \".join(sch.split())\n",
    "            \n",
    "        posdetl=l[1].attrs['href']\n",
    "        #print(posdetl)\n",
    "        posts[p]['School website']=l[0].attrs['href']\n",
    "        if posdetl.startswith(\"http\")==False:\n",
    "            posts[p]['Position detail link']=\"http://www.asc41.com/dir3/\"+posdetl\n",
    "        else:\n",
    "            posts[p]['Position detail link']=posdetl\n",
    "        posts[p]['School']=sch\n",
    "        posts[p]['Number of positions']=npos\n",
    "    else:\n",
    "        cols=r.findAll('td')\n",
    "        if cols[0].text.startswith('Post Date:'):\n",
    "            posts[p]['Post date']=\" \".join(cols[1].text.split())\n",
    "        elif cols[0].text.startswith('Position:'):\n",
    "            posts[p]['Position']=\" \".join(cols[1].text.split())\n",
    "        elif cols[0].text.startswith('Area of Specialization:'):\n",
    "            posts[p]['Specialization']=\" \".join(cols[1].text.split())\n",
    "        elif cols[0].text.startswith('Deadline:'):\n",
    "            posts[p]['Deadline']=\" \".join(cols[1].text.split())\n",
    "         \n",
    "       \n",
    "        \n",
    "        \n",
    "    "
   ]
  },
  {
   "cell_type": "code",
   "execution_count": 133,
   "metadata": {
    "collapsed": false
   },
   "outputs": [],
   "source": [
    "df=pd.DataFrame.from_dict(posts,orient='index')"
   ]
  },
  {
   "cell_type": "code",
   "execution_count": 134,
   "metadata": {
    "collapsed": false
   },
   "outputs": [],
   "source": [
    "ct=datetime.datetime.now()\n",
    "date=ct.strftime(\"%Y%m%d\")"
   ]
  },
  {
   "cell_type": "code",
   "execution_count": 135,
   "metadata": {
    "collapsed": false
   },
   "outputs": [],
   "source": [
    "df.to_csv('asc_jobs_%s.csv'%date)"
   ]
  },
  {
   "cell_type": "code",
   "execution_count": null,
   "metadata": {
    "collapsed": true
   },
   "outputs": [],
   "source": []
  }
 ],
 "metadata": {
  "kernelspec": {
   "display_name": "Python 3",
   "language": "python",
   "name": "python3"
  },
  "language_info": {
   "codemirror_mode": {
    "name": "ipython",
    "version": 3
   },
   "file_extension": ".py",
   "mimetype": "text/x-python",
   "name": "python",
   "nbconvert_exporter": "python",
   "pygments_lexer": "ipython3",
   "version": "3.6.0"
  }
 },
 "nbformat": 4,
 "nbformat_minor": 2
}
